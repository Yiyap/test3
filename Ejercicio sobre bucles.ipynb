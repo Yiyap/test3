{
 "cells": [
  {
   "cell_type": "markdown",
   "id": "01dc21f8-a6dc-41bd-9816-c38f9eae1561",
   "metadata": {},
   "source": [
    "# Ejercicio sobre bucles"
   ]
  },
  {
   "cell_type": "markdown",
   "id": "41483aa0-d4b0-4b5d-88ec-4b89b3a0cd8e",
   "metadata": {},
   "source": [
    "## Ejercicio 1"
   ]
  },
  {
   "cell_type": "code",
   "execution_count": 8,
   "id": "4d7a08d2-f74d-493b-a4a9-0784ae8b25a8",
   "metadata": {
    "tags": []
   },
   "outputs": [
    {
     "name": "stdout",
     "output_type": "stream",
     "text": [
      "* * * * * * * * * * * * \n",
      "* * * * * * * * * * * * \n",
      "* * * * * * * * * * * * \n",
      "* * * * * * * * * * * * \n",
      "* * * * * * * * * * * * \n",
      "* * * * * * * * * * * * \n",
      "* * * * * * * * * * * * \n",
      "* * * * * * * * * * * * \n"
     ]
    }
   ],
   "source": [
    "SquareHeight = 8\n",
    "SquareLength = 12\n",
    "\n",
    "for i in range(SquareHeight):\n",
    "    for j in range(SquareLength):\n",
    "        print (\"*\", end=\" \")\n",
    "    print()"
   ]
  },
  {
   "cell_type": "code",
   "execution_count": 42,
   "id": "fb3a415a-6e55-4f03-8a55-20b00dc40537",
   "metadata": {
    "tags": []
   },
   "outputs": [
    {
     "name": "stdout",
     "output_type": "stream",
     "text": [
      "* * * * * * * * * * * * \n",
      "*                     * \n",
      "*                     * \n",
      "*                     * \n",
      "*                     * \n",
      "*                     * \n",
      "*                     * \n",
      "* * * * * * * * * * * * \n"
     ]
    }
   ],
   "source": [
    "SquareHeight = 8\n",
    "SquareLength = 12\n",
    "\n",
    "for i in range(SquareHeight):\n",
    "    for j in range(SquareLength):\n",
    "        if i in [0, SquareHeight-1] or j in [0, SquareLength-1]:\n",
    "            print(\"*\", end=\" \")\n",
    "        else:\n",
    "            print(\" \", end=\" \")\n",
    "    print()"
   ]
  },
  {
   "cell_type": "markdown",
   "id": "957b406d-a063-428f-8bad-62dd4290af4e",
   "metadata": {
    "tags": []
   },
   "source": [
    "## Ejercicio 2\n"
   ]
  },
  {
   "cell_type": "code",
   "execution_count": 52,
   "id": "41f6ba39-b3a6-40ad-957c-be20e0ea1070",
   "metadata": {
    "tags": []
   },
   "outputs": [
    {
     "name": "stdout",
     "output_type": "stream",
     "text": [
      "\n",
      "*\n",
      "**\n",
      "***\n",
      "****\n",
      "*****\n",
      "******\n",
      "*******\n",
      "********\n",
      "*********\n",
      "**********\n"
     ]
    }
   ],
   "source": [
    "TriangleHeight = 10\n",
    "\n",
    "for i in range(TriangleHeight +1):\n",
    "\n",
    "    print(\"*\" * i)"
   ]
  },
  {
   "cell_type": "code",
   "execution_count": null,
   "id": "50a2380f-d105-475f-a82d-5dbc7a548829",
   "metadata": {},
   "outputs": [],
   "source": []
  },
  {
   "cell_type": "markdown",
   "id": "15bdb797-094c-4d1f-9184-3160df8b741e",
   "metadata": {},
   "source": [
    "## Ejercicio 3"
   ]
  },
  {
   "cell_type": "code",
   "execution_count": 53,
   "id": "08121174-ccb8-47e3-8e30-fac5a6532662",
   "metadata": {
    "tags": []
   },
   "outputs": [
    {
     "name": "stdout",
     "output_type": "stream",
     "text": [
      "          \n",
      "         *\n",
      "        **\n",
      "       ***\n",
      "      ****\n",
      "     *****\n",
      "    ******\n",
      "   *******\n",
      "  ********\n",
      " *********\n",
      "**********\n"
     ]
    }
   ],
   "source": [
    "TriangleHeight = 10\n",
    "\n",
    "for i in range(TriangleHeight +1):\n",
    "\n",
    "    spacing = TriangleHeight - i\n",
    "    print(\" \" * spacing, end=\"\")\n",
    "    print(\"*\" * i)"
   ]
  },
  {
   "cell_type": "code",
   "execution_count": null,
   "id": "8b226fc0-25e0-4e5c-910e-ac7821099b1c",
   "metadata": {},
   "outputs": [],
   "source": []
  }
 ],
 "metadata": {
  "kernelspec": {
   "display_name": "Python 3 (ipykernel)",
   "language": "python",
   "name": "python3"
  },
  "language_info": {
   "codemirror_mode": {
    "name": "ipython",
    "version": 3
   },
   "file_extension": ".py",
   "mimetype": "text/x-python",
   "name": "python",
   "nbconvert_exporter": "python",
   "pygments_lexer": "ipython3",
   "version": "3.11.3"
  }
 },
 "nbformat": 4,
 "nbformat_minor": 5
}
