{
 "cells": [
  {
   "cell_type": "code",
   "execution_count": 10,
   "id": "5f14027b-9327-4d0f-a83d-ef4b65847787",
   "metadata": {
    "tags": []
   },
   "outputs": [],
   "source": [
    "x = 5 # Esto es una variable"
   ]
  },
  {
   "cell_type": "code",
   "execution_count": 5,
   "id": "6bce4e88-dfb9-40f5-bf2c-f313c3bc20b2",
   "metadata": {
    "tags": []
   },
   "outputs": [],
   "source": [
    "# FORMAS DE COMERNTAR:  \n",
    "# TODO: Por necesidades de tiempo esta hardcoding, esto habría que cambiarlo para tirar de base de datos.\n",
    "# 2,77671282 es el coeficiente de corrección que nos ha pasado el cliente\n",
    "gr = x * 2,77671282"
   ]
  },
  {
   "cell_type": "code",
   "execution_count": 7,
   "id": "93dda6b3-c73a-41da-a1bb-4a665d773f1e",
   "metadata": {
    "tags": []
   },
   "outputs": [
    {
     "data": {
      "text/plain": [
       "2"
      ]
     },
     "execution_count": 7,
     "metadata": {},
     "output_type": "execute_result"
    }
   ],
   "source": [
    "1+1"
   ]
  },
  {
   "cell_type": "code",
   "execution_count": 19,
   "id": "3de83b7c-8fc2-46ff-acfe-7d1e8e658152",
   "metadata": {
    "tags": []
   },
   "outputs": [
    {
     "data": {
      "text/plain": [
       "7"
      ]
     },
     "execution_count": 19,
     "metadata": {},
     "output_type": "execute_result"
    }
   ],
   "source": [
    "2+x"
   ]
  },
  {
   "cell_type": "code",
   "execution_count": 18,
   "id": "e114db03-e7d4-44ff-84ed-714f61a61e96",
   "metadata": {
    "tags": []
   },
   "outputs": [],
   "source": [
    "# user_name = \"David\"\n",
    "# user_pass = \"kkkkkk\""
   ]
  },
  {
   "cell_type": "code",
   "execution_count": 17,
   "id": "d8a34673-e8ea-48df-8115-cf24dfacca9e",
   "metadata": {
    "tags": []
   },
   "outputs": [],
   "source": [
    "# si username = \"David\" y password = \"kkkkkk\"\n",
    "#    Entrar = OK\n",
    "# sino\n",
    "#    Entrar = Error! No puedes entrar"
   ]
  },
  {
   "cell_type": "code",
   "execution_count": 21,
   "id": "1e955349-cc13-4286-897d-5452d0e3a905",
   "metadata": {
    "tags": []
   },
   "outputs": [
    {
     "ename": "SyntaxError",
     "evalue": "invalid syntax (1192112945.py, line 5)",
     "output_type": "error",
     "traceback": [
      "\u001b[1;36m  Cell \u001b[1;32mIn[21], line 5\u001b[1;36m\u001b[0m\n\u001b[1;33m    int edad = 19\u001b[0m\n\u001b[1;37m        ^\u001b[0m\n\u001b[1;31mSyntaxError\u001b[0m\u001b[1;31m:\u001b[0m invalid syntax\n"
     ]
    }
   ],
   "source": [
    "# Inferencia de tipos  // Tipado dinámico\n",
    "edad = 19\n",
    "edad = \"diez y nueve\"\n",
    "\n",
    "int edad = 19\n",
    "edad = \"diez y nueve\""
   ]
  },
  {
   "cell_type": "code",
   "execution_count": 26,
   "id": "cf61bf73-2765-4868-a2e9-97b4d28e4b4a",
   "metadata": {
    "tags": []
   },
   "outputs": [
    {
     "data": {
      "text/plain": [
       "int"
      ]
     },
     "execution_count": 26,
     "metadata": {},
     "output_type": "execute_result"
    }
   ],
   "source": [
    "edad = 19\n",
    "type(edad)"
   ]
  },
  {
   "cell_type": "code",
   "execution_count": 28,
   "id": "5c848b7b-fd4d-432b-b678-b859c8374164",
   "metadata": {
    "tags": []
   },
   "outputs": [],
   "source": [
    "a = 19,8"
   ]
  },
  {
   "cell_type": "code",
   "execution_count": 29,
   "id": "53772145-d94a-46df-801f-3ae21d98d32d",
   "metadata": {
    "tags": []
   },
   "outputs": [
    {
     "data": {
      "text/plain": [
       "tuple"
      ]
     },
     "execution_count": 29,
     "metadata": {},
     "output_type": "execute_result"
    }
   ],
   "source": [
    "type(a)"
   ]
  },
  {
   "cell_type": "code",
   "execution_count": 36,
   "id": "7791198c-8370-495e-abad-fa4810322ee3",
   "metadata": {
    "tags": []
   },
   "outputs": [],
   "source": [
    "v1 = 1\n",
    "v2 = 2.2\n",
    "v3 = v1+v2"
   ]
  },
  {
   "cell_type": "code",
   "execution_count": 37,
   "id": "5ce5de98-e62e-4f82-ac4c-9bf551e06e69",
   "metadata": {
    "tags": []
   },
   "outputs": [
    {
     "data": {
      "text/plain": [
       "float"
      ]
     },
     "execution_count": 37,
     "metadata": {},
     "output_type": "execute_result"
    }
   ],
   "source": [
    "type(v3)"
   ]
  },
  {
   "cell_type": "code",
   "execution_count": 38,
   "id": "7a5e0b63-e1d1-43ce-a2d8-5920b0fa70f8",
   "metadata": {
    "tags": []
   },
   "outputs": [],
   "source": [
    "#Operador de asignación\n",
    "a = 7"
   ]
  },
  {
   "cell_type": "code",
   "execution_count": 41,
   "id": "926983e9-1d4b-405b-882c-ab4ba77ee67a",
   "metadata": {
    "tags": []
   },
   "outputs": [],
   "source": [
    "# Contador a = a + 1\n",
    "a += 1 "
   ]
  },
  {
   "cell_type": "code",
   "execution_count": 40,
   "id": "b6a5f4c3-78d3-48c4-a8dc-26d7804973a2",
   "metadata": {
    "tags": []
   },
   "outputs": [],
   "source": [
    "# a = a - 1\n",
    "a -= 1"
   ]
  },
  {
   "cell_type": "code",
   "execution_count": 42,
   "id": "0f764b4c-927e-42cb-ba89-633d6100d147",
   "metadata": {
    "tags": []
   },
   "outputs": [],
   "source": [
    "# Operadores aritmeticos\n"
   ]
  },
  {
   "cell_type": "code",
   "execution_count": null,
   "id": "31c3df5f-1a61-4c25-8260-7c19f0d22189",
   "metadata": {},
   "outputs": [],
   "source": []
  }
 ],
 "metadata": {
  "kernelspec": {
   "display_name": "Python 3 (ipykernel)",
   "language": "python",
   "name": "python3"
  },
  "language_info": {
   "codemirror_mode": {
    "name": "ipython",
    "version": 3
   },
   "file_extension": ".py",
   "mimetype": "text/x-python",
   "name": "python",
   "nbconvert_exporter": "python",
   "pygments_lexer": "ipython3",
   "version": "3.11.3"
  }
 },
 "nbformat": 4,
 "nbformat_minor": 5
}
